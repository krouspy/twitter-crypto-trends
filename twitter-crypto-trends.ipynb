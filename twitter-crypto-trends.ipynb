{
 "metadata": {
  "language_info": {
   "codemirror_mode": {
    "name": "ipython",
    "version": 3
   },
   "file_extension": ".py",
   "mimetype": "text/x-python",
   "name": "python",
   "nbconvert_exporter": "python",
   "pygments_lexer": "ipython3",
   "version": "3.9.1-final"
  },
  "orig_nbformat": 2,
  "kernelspec": {
   "name": "python3",
   "display_name": "Python 3.9.1 64-bit",
   "metadata": {
    "interpreter": {
     "hash": "63fd5069d213b44bf678585dea6b12cceca9941eaf7f819626cde1f2670de90d"
    }
   }
  }
 },
 "nbformat": 4,
 "nbformat_minor": 2,
 "cells": [
  {
   "source": [
    "The objective here is to try to predict the trends of the top 10 cryptocurrencies for the next month by using Twitter. The general idea is to analyze tweets and categorize them depending whether they are in favor or not for a given cryptocurrency. The first step is to retrieve tweets, we will use [snscrape](https://github.com/JustAnotherArchivist/snscrape) to scrape tweets. Then, for each tweet, we will apply a sentiment analysis using the [natural language toolkit](https://www.nltk.org/) python package."
   ],
   "cell_type": "markdown",
   "metadata": {}
  },
  {
   "cell_type": "code",
   "execution_count": null,
   "metadata": {},
   "outputs": [],
   "source": [
    "import pandas as pd\n",
    "import snscrape.modules.twitter as sntwitter\n",
    "from pycoingecko import CoinGeckoAPI\n",
    "from nltk.sentiment import SentimentIntensityAnalyzer\n",
    "import nltk\n",
    "import matplotlib.pyplot as plt\n",
    "import re"
   ]
  },
  {
   "source": [
    "Here we define a function to scrape tweets by topic and period of time. The `max_tweets` parameters is just to make development faster. Also, the `start_date` and `end_date` parameters should be in US format: YYYY-MM-dd."
   ],
   "cell_type": "markdown",
   "metadata": {}
  },
  {
   "cell_type": "code",
   "execution_count": null,
   "metadata": {},
   "outputs": [],
   "source": [
    "def get_tweets(topic, start_date, end_date, max_tweets=10):\n",
    "    tweets = []\n",
    "    query = '{topic} since:{start_date} until:{end_date}'.format(topic=topic, start_date=start_date, end_date=end_date)\n",
    "\n",
    "    for i, tweet in enumerate(sntwitter.TwitterSearchScraper(query).get_items()):\n",
    "        if i > max_tweets - 1:\n",
    "            break\n",
    "        tweets.append([tweet.date, tweet.content, tweet.user.username])\n",
    "    \n",
    "    return tweets"
   ]
  },
  {
   "source": [
    "For example, we can retrieve 10 tweets talking about Bitcoin that were tweeted between 1st and 31th January 2021."
   ],
   "cell_type": "markdown",
   "metadata": {}
  },
  {
   "cell_type": "code",
   "execution_count": null,
   "metadata": {
    "tags": []
   },
   "outputs": [],
   "source": [
    "tweets = get_tweets('Bitcoin', '2021-01-01', '2021-01-31', 10000)\n",
    "tweets"
   ]
  },
  {
   "source": [
    "To make data easier to manipulate we can use a DataFrame from `pandas` library."
   ],
   "cell_type": "markdown",
   "metadata": {}
  },
  {
   "cell_type": "code",
   "execution_count": null,
   "metadata": {},
   "outputs": [],
   "source": [
    "df = pd.DataFrame(tweets, columns=['Datetime', 'Text', 'Username'])\n",
    "df.head()"
   ]
  },
  {
   "source": [
    "When looking at the tweet contents, we can notice that some information are not relevant like hashtags, hyperlinks or @mentions so we can remove them since they may interfere with the sentiment analysis."
   ],
   "cell_type": "markdown",
   "metadata": {}
  },
  {
   "cell_type": "code",
   "execution_count": null,
   "metadata": {},
   "outputs": [],
   "source": [
    "def clean_text(text):\n",
    "    text = re.sub(r'@[A-Za-z0-9\\w]+', '', text) # remove @mentions\n",
    "    text = re.sub(r'#', '', text) # remove hashtags\n",
    "    text = re.sub(r'RT[\\s]+', '', text) # remove RT (retweet) symbol\n",
    "    text = re.sub(r'https?:\\/\\/\\S+', '', text) # remove hyperlinks\n",
    "    text = re.sub(' +', ' ', text) # remove inner extra spaces\n",
    "    text = text.strip() # remove leading and ending spaces\n",
    "    return text"
   ]
  },
  {
   "cell_type": "code",
   "execution_count": null,
   "metadata": {},
   "outputs": [],
   "source": [
    "df['Text'] = df['Text'].apply(clean_text)\n",
    "df.head()"
   ]
  },
  {
   "source": [
    "Now that tweets are cleaner, we can apply a sentiment analysis.\n",
    "\n",
    "The idea of the sentiment analysis is to analyze plain text to identify if the message conveyed is positive, neutral or negative. To do that, we can train our own model by feeding it with a large dataset of positive, neutral and negative vocabulary. In my case, I prefer to use the builtin sentiment analyzer from `nltk` because I'm not good at ML ^^"
   ],
   "cell_type": "markdown",
   "metadata": {}
  },
  {
   "cell_type": "code",
   "execution_count": null,
   "metadata": {},
   "outputs": [],
   "source": [
    "# nltk requires one more dependency to make sentiment analysis work correctly\n",
    "nltk.download('vader_lexicon')\n",
    "\n",
    "sia = SentimentIntensityAnalyzer()\n",
    "\n",
    "one_tweet = df['Text'][0]\n",
    "score = sia.polarity_scores(one_tweet)\n",
    "print('tweet: ', one_tweet)\n",
    "print('score: ', score)"
   ]
  },
  {
   "source": [
    "Here, we have 4 indicators:\n",
    "- neg: negative\n",
    "- neu: neutral\n",
    "- pos: positive\n",
    "- compound\n",
    "\n",
    "The neg, neu and pos variables range from 0 to 1 and their sum is equal to 1. The compound ranges from -1 to 1 and is more precise indicator so we will use it to determine the category of each tweet."
   ],
   "cell_type": "markdown",
   "metadata": {}
  },
  {
   "cell_type": "code",
   "execution_count": null,
   "metadata": {},
   "outputs": [],
   "source": [
    "# create a column 'Scores' containing the polarity score of the associated row\n",
    "df['Scores'] = df['Text'].apply(lambda text: sia.polarity_scores(text))\n",
    "# same with compound\n",
    "df['Compound'] = df['Scores'].apply(lambda score: score['compound'])\n",
    "df.head()"
   ]
  },
  {
   "source": [
    "If the compound value is:\n",
    "- greater than 0 then we can say that the tweet is positive\n",
    "- lower than 0 then the tweet is negative\n",
    "- equal to 0 then the tweet is neutral\n",
    "\n",
    "We can get some stats"
   ],
   "cell_type": "markdown",
   "metadata": {}
  },
  {
   "cell_type": "code",
   "execution_count": null,
   "metadata": {},
   "outputs": [],
   "source": [
    "positive_tweets = df[df['Compound'] > 0]\n",
    "negative_tweets = df[df['Compound'] < 0]\n",
    "neutral_tweets = df[df['Compound'] == 0]\n",
    "\n",
    "percentage_positive = (positive_tweets.shape[0] / df.shape[0]) * 100\n",
    "percentage_negative = (negative_tweets.shape[0] / df.shape[0]) * 100\n",
    "percentage_neutral = (neutral_tweets.shape[0] / df.shape[0]) * 100\n",
    "\n",
    "print('{0}% positive tweets'.format(percentage_positive))\n",
    "print('{0}% negative tweets'.format(percentage_negative))\n",
    "print('{0}% neutral tweets'.format(percentage_neutral))"
   ]
  },
  {
   "source": [
    "When I ran the above with 10000 Bitcoin tweets publised between the 1st and 31th January 2021 I got:\n",
    "- 38.22% positive tweets\n",
    "- 17.94% negative tweets\n",
    "- 43.84% neutral tweets\n",
    "\n",
    "So the results may say that people are more in bullish for Bitcoin.\n",
    "\n",
    "Howewer, the sentiment analysis we did is actually not perfect. For example when we analyze this tweet:\n",
    "\n",
    "\"sooner or later they will understand\" tweeted by the user BitcoinSSJ\n",
    "\n",
    "As human, we tend to interpret this as a positive tweet but our model sees it as neutral."
   ],
   "cell_type": "markdown",
   "metadata": {}
  },
  {
   "cell_type": "code",
   "execution_count": null,
   "metadata": {},
   "outputs": [],
   "source": [
    "tweet = 'sooner or later they will understand'\n",
    "score = sia.polarity_scores(tweet)\n",
    "score"
   ]
  },
  {
   "source": [
    "Or even worse, this tweet is positive regarding Bitcoin but is interpreted as negative."
   ],
   "cell_type": "markdown",
   "metadata": {}
  },
  {
   "cell_type": "code",
   "execution_count": null,
   "metadata": {},
   "outputs": [],
   "source": [
    "tweet = 'I am sure they are really concerned for us, the people. Meanwhile behind the scenes their loading up! I will never trust any of them! \\nbitcoin is the future!'\n",
    "score = sia.polarity_scores(tweet)\n",
    "print(score)"
   ]
  },
  {
   "source": [
    "So there are still work to do to improve our model. We can do it by providing more data for training to our model. But, teaching our model to understand sarcasm can be difficult.\n",
    "\n",
    "Also, the person tweeting is also a parameter that we should take into account. For example, someone like Christine Lagarde has generally a bigger impact regarding user decision since she has the ability to set regulations.\n",
    "\n",
    "Another example is Elon Musk who, by changing his twitter bio to '#Bitcoin' + 2 tweets, played a role regarding the recent 20% increase of bitcoin and 600% for Dogecoin in both 24h.\n",
    "\n",
    "So users have also a weight but I don't know how to do that :/"
   ],
   "cell_type": "markdown",
   "metadata": {}
  },
  {
   "source": [
    "At this point, we will just consider our model is working great and repeat the process above for the top 10 cryptocurrencies that we can get but requesting the [CoinGecko API](https://www.coingecko.com/en/api)."
   ],
   "cell_type": "markdown",
   "metadata": {}
  },
  {
   "cell_type": "code",
   "execution_count": null,
   "metadata": {},
   "outputs": [],
   "source": [
    "def get_top_10_coins():\n",
    "    coingecko = CoinGeckoAPI()\n",
    "    all_coins = coingecko.get_coins_markets(vs_currency='usd')\n",
    "    return [coin['id'] for coin in all_coins[:10]]\n",
    "\n",
    "top_coins = get_top_10_coins()\n",
    "top_coins"
   ]
  },
  {
   "source": [
    "Let's just gather the process in one function."
   ],
   "cell_type": "markdown",
   "metadata": {}
  },
  {
   "cell_type": "code",
   "execution_count": 86,
   "metadata": {},
   "outputs": [],
   "source": [
    "def sentiment_analysis(coin, start_date, end_date, max_tweets=1000):\n",
    "    tweets = get_tweets(coin, start_date, end_date, max_tweets)\n",
    "\n",
    "    df = pd.DataFrame(tweets, columns=['Datetime', 'Text', 'Username'])\n",
    "\n",
    "    df['Text'] = df['Text'].apply(clean_text)\n",
    "    df['Scores'] = df['Text'].apply(lambda text: sia.polarity_scores(text))\n",
    "    # same with compound\n",
    "    df['Compound'] = df['Scores'].apply(lambda score: score['compound'])\n",
    "\n",
    "    positive_tweets = df[df['Compound'] > 0]\n",
    "    negative_tweets = df[df['Compound'] < 0]\n",
    "    neutral_tweets = df[df['Compound'] == 0]\n",
    "\n",
    "    percentage_positive = (positive_tweets.shape[0] / df.shape[0]) * 100\n",
    "    percentage_negative = (negative_tweets.shape[0] / df.shape[0]) * 100\n",
    "    percentage_neutral = (neutral_tweets.shape[0] / df.shape[0]) * 100\n",
    "\n",
    "    is_positive = percentage_positive > percentage_negative\n",
    "\n",
    "    print('{0} sentiment analysis results:'.format(coin))\n",
    "    print('{0}% positive tweets'.format(percentage_positive))\n",
    "    print('{0}% negative tweets'.format(percentage_negative))\n",
    "    print('{0}% neutral tweets'.format(percentage_neutral))\n",
    "    if is_positive:\n",
    "        print('People seem bullish about {0}'.format(coin))\n",
    "    else:\n",
    "        print('People seem bearish about {0}'.format(coin))\n",
    "    print('===============================')"
   ]
  },
  {
   "cell_type": "code",
   "execution_count": 87,
   "metadata": {},
   "outputs": [
    {
     "output_type": "stream",
     "name": "stdout",
     "text": [
      "bitcoin sentiment analysis results:\n",
      "36.8% positive tweets\n",
      "17.299999999999997% negative tweets\n",
      "45.9% neutral tweets\n",
      "People seem bullish about bitcoin\n",
      "===============================\n",
      "ethereum sentiment analysis results:\n",
      "39.2% positive tweets\n",
      "10.4% negative tweets\n",
      "50.4% neutral tweets\n",
      "People seem bullish about ethereum\n",
      "===============================\n",
      "tether sentiment analysis results:\n",
      "36.0% positive tweets\n",
      "28.799999999999997% negative tweets\n",
      "35.199999999999996% neutral tweets\n",
      "People seem bullish about tether\n",
      "===============================\n",
      "ripple sentiment analysis results:\n",
      "24.3% positive tweets\n",
      "40.8% negative tweets\n",
      "34.9% neutral tweets\n",
      "People seem bearish about ripple\n",
      "===============================\n",
      "polkadot sentiment analysis results:\n",
      "46.800000000000004% positive tweets\n",
      "9.4% negative tweets\n",
      "43.8% neutral tweets\n",
      "People seem bullish about polkadot\n",
      "===============================\n",
      "cardano sentiment analysis results:\n",
      "43.4% positive tweets\n",
      "10.9% negative tweets\n",
      "45.7% neutral tweets\n",
      "People seem bullish about cardano\n",
      "===============================\n",
      "chainlink sentiment analysis results:\n",
      "46.800000000000004% positive tweets\n",
      "8.0% negative tweets\n",
      "45.2% neutral tweets\n",
      "People seem bullish about chainlink\n",
      "===============================\n",
      "litecoin sentiment analysis results:\n",
      "30.099999999999998% positive tweets\n",
      "15.1% negative tweets\n",
      "54.800000000000004% neutral tweets\n",
      "People seem bullish about litecoin\n",
      "===============================\n",
      "bitcoin-cash sentiment analysis results:\n",
      "31.7% positive tweets\n",
      "12.2% negative tweets\n",
      "56.10000000000001% neutral tweets\n",
      "People seem bullish about bitcoin-cash\n",
      "===============================\n",
      "stellar sentiment analysis results:\n",
      "45.1% positive tweets\n",
      "16.1% negative tweets\n",
      "38.800000000000004% neutral tweets\n",
      "People seem bullish about stellar\n",
      "===============================\n"
     ]
    }
   ],
   "source": [
    "start_date = '2021-01-01'\n",
    "end_date = '2021-01-31'\n",
    "max_tweets = 1000\n",
    "\n",
    "for coin in top_coins:\n",
    "    sentiment_analysis(coin, start_date, end_date, max_tweets)"
   ]
  }
 ]
}